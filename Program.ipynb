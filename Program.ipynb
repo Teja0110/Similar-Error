{
 "cells": [
  {
   "cell_type": "markdown",
   "metadata": {},
   "source": [
    "## Process Data\n"
   ]
  },
  {
   "cell_type": "markdown",
   "metadata": {},
   "source": [
    "### Import Nescessary Library"
   ]
  },
  {
   "cell_type": "code",
   "execution_count": 26,
   "metadata": {},
   "outputs": [],
   "source": [
    "# import json to read a json file\n",
    "import json\n",
    "import data_utils as dt #Read Json file and create diction of text and markup\n",
    "import string\n",
    "import math\n",
    "from collections import Counter # To find different characters between two sentences\n",
    "import matplotlib.pyplot as plt # for graph\n",
    "import nltk\n",
    "#import seaborn as sns"
   ]
  },
  {
   "cell_type": "markdown",
   "metadata": {},
   "source": [
    "### Read the data"
   ]
  },
  {
   "cell_type": "code",
   "execution_count": 2,
   "metadata": {},
   "outputs": [],
   "source": [
    "# Data is a list of dictionaries of text and its markup\n",
    "data = dt.process_data('Data/tai-documents-v3/tai-documents-v3.json')"
   ]
  },
  {
   "cell_type": "code",
   "execution_count": 3,
   "metadata": {},
   "outputs": [
    {
     "data": {
      "text/plain": [
       "210"
      ]
     },
     "execution_count": 3,
     "metadata": {},
     "output_type": "execute_result"
    }
   ],
   "source": [
    "len(data)"
   ]
  },
  {
   "cell_type": "code",
   "execution_count": 4,
   "metadata": {},
   "outputs": [
    {
     "data": {
      "text/plain": [
       "list"
      ]
     },
     "execution_count": 4,
     "metadata": {},
     "output_type": "execute_result"
    }
   ],
   "source": [
    "type(data)"
   ]
  },
  {
   "cell_type": "code",
   "execution_count": 5,
   "metadata": {},
   "outputs": [
    {
     "data": {
      "text/plain": [
       "dict"
      ]
     },
     "execution_count": 5,
     "metadata": {},
     "output_type": "execute_result"
    }
   ],
   "source": [
    "type(data[0])"
   ]
  },
  {
   "cell_type": "code",
   "execution_count": 6,
   "metadata": {},
   "outputs": [
    {
     "data": {
      "text/plain": [
       "dict_keys(['plaintext', 'markup'])"
      ]
     },
     "execution_count": 6,
     "metadata": {},
     "output_type": "execute_result"
    }
   ],
   "source": [
    "data[0].keys()"
   ]
  },
  {
   "cell_type": "markdown",
   "metadata": {},
   "source": [
    "#### A example of markup"
   ]
  },
  {
   "cell_type": "code",
   "execution_count": 7,
   "metadata": {},
   "outputs": [
    {
     "data": {
      "text/plain": [
       "[{'start_index': 6,\n",
       "  'end_index': 11,\n",
       "  'old_text': 'there',\n",
       "  'new_text': 'there.',\n",
       "  'type': 'punctuation',\n",
       "  'comment': ''},\n",
       " {'start_index': 58,\n",
       "  'end_index': 59,\n",
       "  'old_text': '.',\n",
       "  'new_text': None,\n",
       "  'type': 'punctuation',\n",
       "  'comment': ''},\n",
       " {'start_index': 84,\n",
       "  'end_index': 85,\n",
       "  'old_text': 'g',\n",
       "  'new_text': 'G',\n",
       "  'type': 'grammar',\n",
       "  'comment': ''},\n",
       " {'start_index': 89,\n",
       "  'end_index': 90,\n",
       "  'old_text': 'r',\n",
       "  'new_text': 'R',\n",
       "  'type': 'grammar',\n",
       "  'comment': ''},\n",
       " {'start_index': 372,\n",
       "  'end_index': 397,\n",
       "  'old_text': 'stripped wheat and yelped',\n",
       "  'new_text': 'stripped wheat and yelped',\n",
       "  'type': 'word choice',\n",
       "  'comment': ''},\n",
       " {'start_index': 552,\n",
       "  'end_index': 575,\n",
       "  'old_text': 'it is your favorite own',\n",
       "  'new_text': None,\n",
       "  'type': 'word choice',\n",
       "  'comment': ''},\n",
       " {'start_index': 602,\n",
       "  'end_index': 611,\n",
       "  'old_text': 'gold rush',\n",
       "  'new_text': 'Gold Rush',\n",
       "  'type': 'grammar',\n",
       "  'comment': ''},\n",
       " {'start_index': 84,\n",
       "  'end_index': 93,\n",
       "  'old_text': 'gold rush',\n",
       "  'new_text': 'Gold Rush',\n",
       "  'type': 'grammar',\n",
       "  'comment': ''}]"
      ]
     },
     "execution_count": 7,
     "metadata": {},
     "output_type": "execute_result"
    }
   ],
   "source": [
    "data[0]['markup']"
   ]
  },
  {
   "cell_type": "code",
   "execution_count": 8,
   "metadata": {},
   "outputs": [
    {
     "data": {
      "text/plain": [
       "dict"
      ]
     },
     "execution_count": 8,
     "metadata": {},
     "output_type": "execute_result"
    }
   ],
   "source": [
    "type(data[0])"
   ]
  },
  {
   "cell_type": "markdown",
   "metadata": {},
   "source": [
    "### Process each essay and find similar error"
   ]
  },
  {
   "cell_type": "markdown",
   "metadata": {},
   "source": [
    "#### Word Choice"
   ]
  },
  {
   "cell_type": "code",
   "execution_count": 9,
   "metadata": {},
   "outputs": [],
   "source": [
    "# input: and essay with plain_text and markup\n",
    "# output: return a list of similar errors of word_choice with number of error for each\n",
    "# The related words for that error and the indices (on markup) of that error\n",
    "def word_choice(input):\n",
    "    output = []\n",
    "    check = False\n",
    "    for i in range(len(input['markup'])):\n",
    "        error = input['markup'][i]\n",
    "        check = False\n",
    "        if error['type'] == 'word choice':\n",
    "            # Check if we see this error before, update the error_count\n",
    "            for item in output:\n",
    "                if ((error['old_text'] in item['words']) or\n",
    "                   (error['new_text'] in item['words'])):\n",
    "                        check = True # Set this error already marked\n",
    "                        item['index'].append(i)\n",
    "                        item['words'].add(error['old_text'])\n",
    "                        item['words'].add(error['new_text'])\n",
    "                        item['error_count'] = item['error_count'] + 1\n",
    "            \n",
    "            # The error haven't been seen before\n",
    "            if check == False:\n",
    "                output.append({'words' : {error['old_text'], error['new_text']}, \n",
    "                               'index' : [i], 'error_count' : 1})\n",
    "                \n",
    "                \n",
    "    # Return output\n",
    "    return output          "
   ]
  },
  {
   "cell_type": "code",
   "execution_count": 30,
   "metadata": {},
   "outputs": [
    {
     "data": {
      "text/plain": [
       "['g', 'r', 'gold rush', 'gold rush']"
      ]
     },
     "execution_count": 30,
     "metadata": {},
     "output_type": "execute_result"
    }
   ],
   "source": [
    "[error['old_text'] for error in data[0]['markup'] if error['type'] == 'grammar']"
   ]
  },
  {
   "cell_type": "code",
   "execution_count": 10,
   "metadata": {},
   "outputs": [],
   "source": [
    "word_choice_test = {'plaintext' : 'aaaaa', 'markup' : [{'start_index': 6,\n",
    "                      'end_index': 11,\n",
    "                      'old_text': 'dad',\n",
    "                      'new_text': 'father',\n",
    "                      'type': 'word choice',\n",
    "                      'comment': ''}, \n",
    "                      {'start_index': 10,\n",
    "                      'end_index': 11,\n",
    "                      'old_text': 'dady',\n",
    "                      'new_text': 'father',\n",
    "                      'type': 'word choice',\n",
    "                      'comment': ''},\n",
    "                      {'start_index': 20,\n",
    "                      'end_index': 25,\n",
    "                      'old_text': 'mom',\n",
    "                      'new_text': 'mother',\n",
    "                      'type': 'word choice',\n",
    "                      'comment': ''}]}"
   ]
  },
  {
   "cell_type": "code",
   "execution_count": 11,
   "metadata": {},
   "outputs": [
    {
     "data": {
      "text/plain": [
       "[{'words': {'dad', 'dady', 'father'}, 'index': [0, 1], 'error_count': 2},\n",
       " {'words': {'mom', 'mother'}, 'index': [2], 'error_count': 1}]"
      ]
     },
     "execution_count": 11,
     "metadata": {},
     "output_type": "execute_result"
    }
   ],
   "source": [
    "word_choice(word_choice_test)"
   ]
  },
  {
   "cell_type": "markdown",
   "metadata": {},
   "source": [
    "### Punctuation Error"
   ]
  },
  {
   "cell_type": "code",
   "execution_count": 12,
   "metadata": {},
   "outputs": [],
   "source": [
    "puct_error = [error for essay in data for error in essay['markup'] if error['type'] == 'punctuation']"
   ]
  },
  {
   "cell_type": "code",
   "execution_count": 13,
   "metadata": {},
   "outputs": [
    {
     "data": {
      "text/plain": [
       "1449"
      ]
     },
     "execution_count": 13,
     "metadata": {},
     "output_type": "execute_result"
    }
   ],
   "source": [
    "len(puct_error)"
   ]
  },
  {
   "cell_type": "code",
   "execution_count": 14,
   "metadata": {},
   "outputs": [
    {
     "data": {
      "text/plain": [
       "[{'start_index': 6,\n",
       "  'end_index': 11,\n",
       "  'old_text': 'there',\n",
       "  'new_text': 'there.',\n",
       "  'type': 'punctuation',\n",
       "  'comment': ''},\n",
       " {'start_index': 58,\n",
       "  'end_index': 59,\n",
       "  'old_text': '.',\n",
       "  'new_text': None,\n",
       "  'type': 'punctuation',\n",
       "  'comment': ''}]"
      ]
     },
     "execution_count": 14,
     "metadata": {},
     "output_type": "execute_result"
    }
   ],
   "source": [
    "puct_error[:2]"
   ]
  },
  {
   "cell_type": "code",
   "execution_count": 15,
   "metadata": {},
   "outputs": [],
   "source": [
    "# Define a set of rules for similar punctuation errors\n",
    "# The rules we set bases on the markup punctuation error from essay input above\n",
    "# return a dictionary of all similar errors and numbers of their appearance\n",
    "def punctuation_error(input):\n",
    "    output = {}\n",
    "    # Loop through all errors in an essay then process only punctuation error\n",
    "    for i in range(len(input['markup'])):\n",
    "        error = input['markup'][i]\n",
    "        if (error['type'] == 'punctuation'):  \n",
    "            old_text = error['old_text']\n",
    "            new_text = error['new_text']\n",
    "            if new_text != None:\n",
    "                new_text_trim = new_text.replace(' ', '')\n",
    "            old_text_trim = old_text.replace(' ', '')\n",
    "            \n",
    "            #if old_text == new_text:\n",
    "                #raise ValueError(\"Markup error new and old text are the same\")\n",
    "            # Capitalization error: text on old and new word are the same except capilize a character\n",
    "            if(new_text != None and old_text.lower() == new_text.lower()):\n",
    "                # check if we already had capitalization error on output\n",
    "                # Add new if there is not\n",
    "                if('capitalization_error' not in output):\n",
    "                    output['capitalization_error'] = {'definition' : 'Errors on capitalization',\n",
    "                                                       'index' : [i], 'error_count' : 1}\n",
    "                else:\n",
    "                    output['capitalization_error']['index'].append(i)\n",
    "                    error_cnt = output['capitalization_error']['error_count']\n",
    "                    output['capitalization_error']['error_count'] = error_cnt + 1\n",
    "            \n",
    "            # Error of misleading between 2 punctuations\n",
    "            elif( new_text != None and  old_text != None \n",
    "               and len(old_text) == 1 and  len(new_text) == 1 \n",
    "               and old_text in string.punctuation  and new_text in string.punctuation):\n",
    "                error_name = ''\n",
    "                if((('misleading ' + old_text + new_text) in output)):\n",
    "                    error_name = 'misleading ' + old_text + new_text\n",
    "                elif ((('misleading ' + new_text + old_text) in output)):\n",
    "                    error_name = 'misleading ' + new_text + old_text\n",
    "                \n",
    "                # check if output has this type of error - add new if not\n",
    "                if(error_name == ''):\n",
    "                    error_name = 'misleading ' + old_text + new_text\n",
    "                    error_def = 'Errors of misleading between ' + old_text + ' and ' + new_text\n",
    "                    output[error_name] = {'definition' : error_def, 'index' : [i], 'error_count' : 1}\n",
    "                else:\n",
    "                    output[error_name]['index'].append(i)\n",
    "                    output[error_name]['error_count'] = output[error_name]['error_count'] + 1\n",
    "               \n",
    "            # Error of using wrong a punctuation or missing using an punctuation\n",
    "                # First case: new_word/old_word contain empty string and/or a punctuation\n",
    "            elif(new_text !=  None and ((old_text_trim == '' and len(new_text_trim) == 1 \n",
    "                  and new_text_trim in string.punctuation) or ((new_text_trim == '') \n",
    "                 and len(old_text_trim) == 1 and old_text_trim in string.punctuation))):\n",
    "                error_name = 'error_use ' + old_text_trim + new_text_trim\n",
    "                # check if output has this type of error - add new if not\n",
    "                if(error_name not in output):\n",
    "                    error_def = 'Wrong used or missing using of ' + old_text_trim + new_text_trim\n",
    "                    output[error_name] = {'definition' : error_def, 'index' : [i], 'error_count' : 1}\n",
    "                else:\n",
    "                    output[error_name]['index'].append(i)\n",
    "                    output[error_name]['error_count'] = output[error_name]['error_count'] + 1\n",
    "                # Second case: new_word/old_word contains a sentence with a punctuation \n",
    "                # and the other contain the same sentence without that punctuation\n",
    "            elif(new_text !=  None and abs(len(old_text_trim) - len(new_text_trim)) == 1):\n",
    "                # Get the different character between old_word and new_word\n",
    "                # Then check if the different character between them is punctuation or not\n",
    "                if(len(old_text_trim) > len(new_text_trim)):\n",
    "                    dif_char = list(Counter(old_text_trim.lower()) - Counter(new_text_trim.lower()))[0]\n",
    "                else:\n",
    "                    dif_char = list(Counter(new_text_trim.lower()) - Counter(old_text_trim.lower()))[0]\n",
    "                    \n",
    "                if(dif_char in string.punctuation):\n",
    "                    error_name = 'error_use ' + dif_char\n",
    "                    if(error_name not in output):\n",
    "                        error_def = 'Wrong used or missing using of ' + dif_char\n",
    "                        output[error_name] = {'definition' : error_def, 'index' : [i], 'error_count' : 1}\n",
    "                    else:\n",
    "                        output[error_name]['index'].append(i)\n",
    "                        output[error_name]['error_count'] = output[error_name]['error_count'] + 1\n",
    "                # Otherwise add to other error\n",
    "                else:\n",
    "                    error_name = 'other_error'\n",
    "                    if(error_name not in output):\n",
    "                        output[error_name] = {'definition' : 'other errors', 'index' : [i], 'error_count' : 1}\n",
    "                    else:\n",
    "                        output[error_name]['index'].append(i)\n",
    "                        output[error_name]['error_count'] = output[error_name]['error_count'] + 1\n",
    "             \n",
    "            # The rest add to other error\n",
    "            else:\n",
    "                error_name = 'other_error'\n",
    "                if(error_name not in output):\n",
    "                    output[error_name] = {'definition' : 'other errors', 'index' : [i], 'error_count' : 1}\n",
    "                else:\n",
    "                    output[error_name]['index'].append(i)\n",
    "                    output[error_name]['error_count'] = output[error_name]['error_count'] + 1\n",
    "    return output\n",
    "                    \n",
    "    "
   ]
  },
  {
   "cell_type": "markdown",
   "metadata": {},
   "source": [
    "##### TestCase for punctuation_error"
   ]
  },
  {
   "cell_type": "markdown",
   "metadata": {},
   "source": [
    "##### Test run "
   ]
  },
  {
   "cell_type": "code",
   "execution_count": 16,
   "metadata": {
    "scrolled": true
   },
   "outputs": [
    {
     "data": {
      "text/plain": [
       "{'plaintext': \"Gaming setups\\r\\nJames lee #13\\r\\n\\r\\nTable of Contents\\r\\n#1 Gaming PC\\r\\n#2 gaming monitor\\r\\n#3 gaming accessories\\r\\n\\r\\nIntroduction\\r\\nDo you like video games.........well if you don't then you should still read this book on how to make a gaming this book tells you how to be a true gamer and how to have a great gaming setup.\\r\\n\\r\\nGaming PC\\r\\nCYBERPOWERPC i think that you should buy this gaming PC because it has intel core, AMD FX 6300 processor, and lots and lots of other things that will make you look like a gamer and your gaming setup look like a true gaming setup this gaming setup runs like a real gaming setup.  Also it is accessible for VR such as vive VR and Oculus VR. also this gaming PC doesn't just run good it also looks how a gaming PC should look like. my favorite thing is that instead of plastic on the one side of the PC its glass so you can see the inside of the PC. also in the inside of the PC there are LED gaming lights. and that's why i think you should buy the CYBERPOWERPC\\r\\n\\r\\ngaming monitor\\r\\n\\r\\ngaming accessories\\r\\n\\r\\nConclusion\",\n",
       " 'markup': [{'start_index': 138,\n",
       "   'end_index': 139,\n",
       "   'old_text': '.',\n",
       "   'new_text': '?',\n",
       "   'type': 'punctuation',\n",
       "   'comment': ''},\n",
       "  {'start_index': 147,\n",
       "   'end_index': 148,\n",
       "   'old_text': 'w',\n",
       "   'new_text': 'Well',\n",
       "   'type': 'punctuation',\n",
       "   'comment': ''},\n",
       "  {'start_index': 231,\n",
       "   'end_index': 232,\n",
       "   'old_text': ' ',\n",
       "   'new_text': ' .',\n",
       "   'type': 'punctuation',\n",
       "   'comment': 'add period'},\n",
       "  {'start_index': 232,\n",
       "   'end_index': 233,\n",
       "   'old_text': 't',\n",
       "   'new_text': None,\n",
       "   'type': 'punctuation',\n",
       "   'comment': ''},\n",
       "  {'start_index': 337,\n",
       "   'end_index': 338,\n",
       "   'old_text': 'i',\n",
       "   'new_text': 'i',\n",
       "   'type': 'punctuation',\n",
       "   'comment': ''},\n",
       "  {'start_index': 603,\n",
       "   'end_index': 607,\n",
       "   'old_text': 'also',\n",
       "   'new_text': None,\n",
       "   'type': 'punctuation',\n",
       "   'comment': ''},\n",
       "  {'start_index': 700,\n",
       "   'end_index': 704,\n",
       "   'old_text': 'good',\n",
       "   'new_text': 'well',\n",
       "   'type': 'word choice',\n",
       "   'comment': ''},\n",
       "  {'start_index': 753,\n",
       "   'end_index': 755,\n",
       "   'old_text': 'my',\n",
       "   'new_text': None,\n",
       "   'type': 'punctuation',\n",
       "   'comment': ''},\n",
       "  {'start_index': 927,\n",
       "   'end_index': 932,\n",
       "   'old_text': '. and',\n",
       "   'new_text': None,\n",
       "   'type': 'word choice',\n",
       "   'comment': 'remove \"and\", start new sentence'},\n",
       "  {'start_index': 933,\n",
       "   'end_index': 939,\n",
       "   'old_text': \"that's\",\n",
       "   'new_text': None,\n",
       "   'type': 'punctuation',\n",
       "   'comment': ''}]}"
      ]
     },
     "execution_count": 16,
     "metadata": {},
     "output_type": "execute_result"
    }
   ],
   "source": [
    "data[9]"
   ]
  },
  {
   "cell_type": "code",
   "execution_count": 17,
   "metadata": {},
   "outputs": [
    {
     "data": {
      "text/plain": [
       "{'misleading .?': {'definition': 'Errors of misleading between . and ?',\n",
       "  'index': [0],\n",
       "  'error_count': 1},\n",
       " 'other_error': {'definition': 'other errors',\n",
       "  'index': [1, 3, 5, 7, 9],\n",
       "  'error_count': 5},\n",
       " 'error_use .': {'definition': 'Wrong used or missing using of .',\n",
       "  'index': [2],\n",
       "  'error_count': 1},\n",
       " 'capitalization_error': {'definition': 'Errors on capitalization',\n",
       "  'index': [4],\n",
       "  'error_count': 1}}"
      ]
     },
     "execution_count": 17,
     "metadata": {},
     "output_type": "execute_result"
    }
   ],
   "source": [
    "punctuation_error(data[9])"
   ]
  },
  {
   "cell_type": "code",
   "execution_count": 18,
   "metadata": {},
   "outputs": [],
   "source": [
    "punctuation_test = {'plaintext' : 'aaaaa', 'markup' : [\n",
    "                    {'start_index': 1824,\n",
    "                  'end_index': 1825,\n",
    "                  'old_text': '',\n",
    "                  'new_text': '.',\n",
    "                  'type': 'punctuation',\n",
    "                  'comment': ''}, \n",
    "                    {'start_index': 138,\n",
    "                   'end_index': 139,\n",
    "                   'old_text': '.',\n",
    "                   'new_text': '?',\n",
    "                   'type': 'punctuation',\n",
    "                   'comment': ''},\n",
    "                      {'start_index': 235,\n",
    "                  'end_index': 236,\n",
    "                  'old_text': '',\n",
    "                  'new_text': ',',\n",
    "                  'type': 'punctuation',\n",
    "                  'comment': ''},\n",
    "                    {'start_index': 400,\n",
    "                  'end_index': 401,\n",
    "                  'old_text': 't',\n",
    "                  'new_text': 'T',\n",
    "                  'type': 'punctuation',\n",
    "                  'comment': ''},\n",
    "                    {'start_index': 592,\n",
    "                  'end_index': 594,\n",
    "                  'old_text': 'f',\n",
    "                  'new_text': '.  F',\n",
    "                  'type': 'punctuation',\n",
    "                  'comment': ''},\n",
    "                 {'start_index': 620,\n",
    "                  'end_index': 621,\n",
    "                  'old_text': 'w',\n",
    "                  'new_text': 'W',\n",
    "                  'type': 'punctuation',\n",
    "                  'comment': ''},\n",
    "                    {'start_index': 67,\n",
    "                  'end_index': 78,\n",
    "                  'old_text': 'is surprise',\n",
    "                  'new_text': 'is, surprise',\n",
    "                  'type': 'punctuation',\n",
    "                  'comment': ''},\n",
    "                 {'start_index': 398,\n",
    "                  'end_index': 406,\n",
    "                  'old_text': 'is three',\n",
    "                  'new_text': 'is, three',\n",
    "                  'type': 'punctuation',\n",
    "                  'comment': ''},\n",
    "                    {'start_index': 407,\n",
    "                  'end_index': 421,\n",
    "                  'old_text': \"strikes you're\",\n",
    "                  'new_text': \"strikes, you're\",\n",
    "                  'type': 'punctuation',\n",
    "                  'comment': ''},\n",
    "                    {'start_index': 977,\n",
    "                  'end_index': 978,\n",
    "                  'old_text': 'I',\n",
    "                  'new_text': None,\n",
    "                  'type': 'punctuation',\n",
    "                  'comment': ''},\n",
    "                    {'start_index': 977,\n",
    "                  'end_index': 978,\n",
    "                  'old_text': 'w',\n",
    "                  'new_text': 'Well',\n",
    "                  'type': 'punctuation',\n",
    "                  'comment': ''},\n",
    "            ]}"
   ]
  },
  {
   "cell_type": "code",
   "execution_count": 19,
   "metadata": {},
   "outputs": [
    {
     "data": {
      "text/plain": [
       "{'error_use .': {'definition': 'Wrong used or missing using of .',\n",
       "  'index': [0, 4],\n",
       "  'error_count': 2},\n",
       " 'misleading .?': {'definition': 'Errors of misleading between . and ?',\n",
       "  'index': [1],\n",
       "  'error_count': 1},\n",
       " 'error_use ,': {'definition': 'Wrong used or missing using of ,',\n",
       "  'index': [2, 6, 7, 8],\n",
       "  'error_count': 4},\n",
       " 'capitalization_error': {'definition': 'Errors on capitalization',\n",
       "  'index': [3, 5],\n",
       "  'error_count': 2},\n",
       " 'other_error': {'definition': 'other errors',\n",
       "  'index': [9, 10],\n",
       "  'error_count': 2}}"
      ]
     },
     "execution_count": 19,
     "metadata": {},
     "output_type": "execute_result"
    }
   ],
   "source": [
    "punctuation_error(punctuation_test)\n"
   ]
  },
  {
   "cell_type": "markdown",
   "metadata": {},
   "source": [
    "#### Make sure that total error we count equal total of punctuation error in input"
   ]
  },
  {
   "cell_type": "code",
   "execution_count": 20,
   "metadata": {},
   "outputs": [],
   "source": [
    "assert(len([k for k in punctuation_test['markup'] if k['type'] == 'punctuation']) == \n",
    "       sum(error['error_count'] for error in punctuation_error(punctuation_test).values()))"
   ]
  },
  {
   "cell_type": "code",
   "execution_count": 21,
   "metadata": {},
   "outputs": [],
   "source": [
    "for essay in data:\n",
    "    assert(len([p for p in essay['markup'] if p['type'] == 'punctuation']) == \n",
    "           sum(error['error_count'] for error in punctuation_error(essay).values()))"
   ]
  },
  {
   "cell_type": "markdown",
   "metadata": {},
   "source": [
    "#### Some Stat for counting punctuation error"
   ]
  },
  {
   "cell_type": "markdown",
   "metadata": {},
   "source": [
    "##### Total Number of punctuation errors were marked"
   ]
  },
  {
   "cell_type": "code",
   "execution_count": 22,
   "metadata": {},
   "outputs": [
    {
     "data": {
      "text/plain": [
       "1449"
      ]
     },
     "execution_count": 22,
     "metadata": {},
     "output_type": "execute_result"
    }
   ],
   "source": [
    "total_punc_error = len([error for essay in data \n",
    "                        for error in essay['markup'] \n",
    "                        if error['type'] == 'punctuation'])\n",
    "total_punc_error"
   ]
  },
  {
   "cell_type": "markdown",
   "metadata": {},
   "source": [
    "##### Total Number of punctuation errors that we can classify (Not put on other_error)"
   ]
  },
  {
   "cell_type": "code",
   "execution_count": 23,
   "metadata": {},
   "outputs": [
    {
     "data": {
      "text/plain": [
       "1034"
      ]
     },
     "execution_count": 23,
     "metadata": {},
     "output_type": "execute_result"
    }
   ],
   "source": [
    "ctb_punc_error = sum([error[1]['error_count'] for essay in data \n",
    "                      for error in punctuation_error(essay).items() \n",
    "                      if error[0] != 'other_error'])\n",
    "ctb_punc_error"
   ]
  },
  {
   "cell_type": "markdown",
   "metadata": {},
   "source": [
    "##### Percent of punctuation error that we can classify"
   ]
  },
  {
   "cell_type": "code",
   "execution_count": 24,
   "metadata": {},
   "outputs": [
    {
     "data": {
      "text/plain": [
       "71.35955831608005"
      ]
     },
     "execution_count": 24,
     "metadata": {},
     "output_type": "execute_result"
    }
   ],
   "source": [
    "Punc_classify_rate = (ctb_punc_error * 100.0) / total_punc_error\n",
    "Punc_classify_rate"
   ]
  },
  {
   "cell_type": "markdown",
   "metadata": {},
   "source": [
    "##### Distribution of the repeatable of a type of error in an essay"
   ]
  },
  {
   "cell_type": "code",
   "execution_count": 25,
   "metadata": {},
   "outputs": [],
   "source": [
    "repeat_error_cnt = [error[1]['error_count'] for essay in data \n",
    "                      for error in punctuation_error(essay).items() \n",
    "                      if error[0] != 'other_error']"
   ]
  },
  {
   "cell_type": "code",
   "execution_count": 204,
   "metadata": {},
   "outputs": [
    {
     "data": {
      "text/plain": [
       "(array([240.,  30.,  25.,  14.,   6.,   6.,   2.,   0.,   0.,   2.]),\n",
       " array([ 1. ,  3.3,  5.6,  7.9, 10.2, 12.5, 14.8, 17.1, 19.4, 21.7, 24. ]),\n",
       " <a list of 10 Patch objects>)"
      ]
     },
     "execution_count": 204,
     "metadata": {},
     "output_type": "execute_result"
    },
    {
     "data": {
      "image/png": "[encoded data removed]",
      "text/plain": [
       "<Figure size 432x288 with 1 Axes>"
      ]
     },
     "metadata": {
      "needs_background": "light"
     },
     "output_type": "display_data"
    }
   ],
   "source": [
    "plt.hist(repeat_error_cnt)"
   ]
  },
  {
   "cell_type": "code",
   "execution_count": 28,
   "metadata": {},
   "outputs": [
    {
     "data": {
      "text/plain": [
       "[(1, 134), (2, 66), (3, 40), (4, 17), (7, 14)]"
      ]
     },
     "execution_count": 28,
     "metadata": {},
     "output_type": "execute_result"
    }
   ],
   "source": [
    "error_cnt_freq = nltk.FreqDist(repeat_error_cnt)\n",
    "error_cnt_freq.most_common(5)"
   ]
  },
  {
   "cell_type": "code",
   "execution_count": 29,
   "metadata": {},
   "outputs": [
    {
     "data": {
      "image/png": "[encoded data removed]",
      "text/plain": [
       "<Figure size 432x288 with 1 Axes>"
      ]
     },
     "metadata": {
      "needs_background": "light"
     },
     "output_type": "display_data"
    },
    {
     "data": {
      "text/plain": [
       "<matplotlib.axes._subplots.AxesSubplot at 0x110db89b0>"
      ]
     },
     "execution_count": 29,
     "metadata": {},
     "output_type": "execute_result"
    }
   ],
   "source": [
    "error_cnt_freq.plot()"
   ]
  },
  {
   "cell_type": "code",
   "execution_count": 169,
   "metadata": {},
   "outputs": [],
   "source": [
    "a = punctuation_error(data[0])"
   ]
  },
  {
   "cell_type": "code",
   "execution_count": 184,
   "metadata": {},
   "outputs": [
    {
     "name": "stdout",
     "output_type": "stream",
     "text": [
      "{'definition': 'Wrong used or missing using of .', 'index': [0], 'error_count': 1}\n",
      "<class 'tuple'>\n",
      "{'definition': 'other errors', 'index': [1], 'error_count': 1}\n",
      "<class 'tuple'>\n"
     ]
    }
   ],
   "source": [
    "for b in a.items():\n",
    "    print(b[1])\n",
    "    print(type(b))"
   ]
  },
  {
   "cell_type": "code",
   "execution_count": 108,
   "metadata": {
    "scrolled": true
   },
   "outputs": [
    {
     "data": {
      "text/plain": [
       "{'misleading .?': {'definition': 'Errors of misleading between . and ?',\n",
       "  'index': [0],\n",
       "  'error_count': 1},\n",
       " 'other_error': {'definition': 'other errors',\n",
       "  'index': [1, 3, 5, 7, 9],\n",
       "  'error_count': 5},\n",
       " 'error_use .': {'definition': 'Wrong used or missing using of .',\n",
       "  'index': [2],\n",
       "  'error_count': 1},\n",
       " 'capitalization_error': {'definition': 'Errors on capitalization',\n",
       "  'index': [4],\n",
       "  'error_count': 1}}"
      ]
     },
     "execution_count": 108,
     "metadata": {},
     "output_type": "execute_result"
    }
   ],
   "source": [
    "punctuation_error(data[9])"
   ]
  },
  {
   "cell_type": "code",
   "execution_count": 100,
   "metadata": {},
   "outputs": [
    {
     "data": {
      "text/plain": [
       "'?'"
      ]
     },
     "execution_count": 100,
     "metadata": {},
     "output_type": "execute_result"
    }
   ],
   "source": [
    "dif_char = list(Counter(n) - Counter(o))[0]\n",
    "dif_char"
   ]
  },
  {
   "cell_type": "code",
   "execution_count": 74,
   "metadata": {},
   "outputs": [],
   "source": [
    "o  = 'cheerleading if'\n",
    "n = 'cheerleading? if'"
   ]
  },
  {
   "cell_type": "code",
   "execution_count": 77,
   "metadata": {},
   "outputs": [
    {
     "data": {
      "text/plain": [
       "['cheerleading? if']"
      ]
     },
     "execution_count": 77,
     "metadata": {},
     "output_type": "execute_result"
    }
   ],
   "source": [
    "n.rsplit(o)"
   ]
  },
  {
   "cell_type": "code",
   "execution_count": 80,
   "metadata": {},
   "outputs": [
    {
     "ename": "TypeError",
     "evalue": "unsupported operand type(s) for -: 'list' and 'list'",
     "output_type": "error",
     "traceback": [
      "\u001b[0;31m---------------------------------------------------------------------------\u001b[0m",
      "\u001b[0;31mTypeError\u001b[0m                                 Traceback (most recent call last)",
      "\u001b[0;32m<ipython-input-80-4505db6845ae>\u001b[0m in \u001b[0;36m<module>\u001b[0;34m\u001b[0m\n\u001b[0;32m----> 1\u001b[0;31m \u001b[0mlist\u001b[0m\u001b[0;34m(\u001b[0m\u001b[0mo\u001b[0m\u001b[0;34m)\u001b[0m \u001b[0;34m-\u001b[0m \u001b[0mlist\u001b[0m\u001b[0;34m(\u001b[0m\u001b[0mn\u001b[0m\u001b[0;34m)\u001b[0m\u001b[0;34m\u001b[0m\u001b[0;34m\u001b[0m\u001b[0m\n\u001b[0m",
      "\u001b[0;31mTypeError\u001b[0m: unsupported operand type(s) for -: 'list' and 'list'"
     ]
    }
   ],
   "source": [
    "list(o) - list(n)"
   ]
  },
  {
   "cell_type": "code",
   "execution_count": 81,
   "metadata": {},
   "outputs": [],
   "source": [
    "from collections import Counter"
   ]
  },
  {
   "cell_type": "code",
   "execution_count": 88,
   "metadata": {},
   "outputs": [
    {
     "data": {
      "text/plain": [
       "Counter({'?': 1})"
      ]
     },
     "execution_count": 88,
     "metadata": {},
     "output_type": "execute_result"
    }
   ],
   "source": [
    "a = Counter(n) - Counter(o)\n",
    "a"
   ]
  },
  {
   "cell_type": "code",
   "execution_count": 89,
   "metadata": {},
   "outputs": [
    {
     "data": {
      "text/plain": [
       "1"
      ]
     },
     "execution_count": 89,
     "metadata": {},
     "output_type": "execute_result"
    }
   ],
   "source": [
    "len(a)"
   ]
  },
  {
   "cell_type": "code",
   "execution_count": 97,
   "metadata": {},
   "outputs": [
    {
     "ename": "AttributeError",
     "evalue": "'int' object has no attribute 'key'",
     "output_type": "error",
     "traceback": [
      "\u001b[0;31m---------------------------------------------------------------------------\u001b[0m",
      "\u001b[0;31mAttributeError\u001b[0m                            Traceback (most recent call last)",
      "\u001b[0;32m<ipython-input-97-d8004d84e505>\u001b[0m in \u001b[0;36m<module>\u001b[0;34m\u001b[0m\n\u001b[0;32m----> 1\u001b[0;31m \u001b[0ma\u001b[0m\u001b[0;34m[\u001b[0m\u001b[0;36m0\u001b[0m\u001b[0;34m]\u001b[0m\u001b[0;34m.\u001b[0m\u001b[0mkey\u001b[0m\u001b[0;34m(\u001b[0m\u001b[0;34m)\u001b[0m\u001b[0;34m\u001b[0m\u001b[0;34m\u001b[0m\u001b[0m\n\u001b[0m",
      "\u001b[0;31mAttributeError\u001b[0m: 'int' object has no attribute 'key'"
     ]
    }
   ],
   "source": []
  },
  {
   "cell_type": "code",
   "execution_count": 65,
   "metadata": {},
   "outputs": [
    {
     "data": {
      "text/plain": [
       "''"
      ]
     },
     "execution_count": 65,
     "metadata": {},
     "output_type": "execute_result"
    }
   ],
   "source": [
    "a = ' '\n",
    "a.strip()"
   ]
  },
  {
   "cell_type": "code",
   "execution_count": 66,
   "metadata": {},
   "outputs": [
    {
     "data": {
      "text/plain": [
       "' '"
      ]
     },
     "execution_count": 66,
     "metadata": {},
     "output_type": "execute_result"
    }
   ],
   "source": [
    "a"
   ]
  },
  {
   "cell_type": "code",
   "execution_count": 43,
   "metadata": {},
   "outputs": [
    {
     "data": {
      "text/plain": [
       "True"
      ]
     },
     "execution_count": 43,
     "metadata": {},
     "output_type": "execute_result"
    }
   ],
   "source": [
    "'' in string.punctuation"
   ]
  },
  {
   "cell_type": "code",
   "execution_count": 33,
   "metadata": {},
   "outputs": [
    {
     "data": {
      "text/plain": [
       "[{'start_index': 6,\n",
       "  'end_index': 11,\n",
       "  'old_text': 'there',\n",
       "  'new_text': 'there.',\n",
       "  'type': 'punctuation',\n",
       "  'comment': ''},\n",
       " {'start_index': 58,\n",
       "  'end_index': 59,\n",
       "  'old_text': '.',\n",
       "  'new_text': None,\n",
       "  'type': 'punctuation',\n",
       "  'comment': ''},\n",
       " {'start_index': 84,\n",
       "  'end_index': 85,\n",
       "  'old_text': 'g',\n",
       "  'new_text': 'G',\n",
       "  'type': 'grammar',\n",
       "  'comment': ''},\n",
       " {'start_index': 89,\n",
       "  'end_index': 90,\n",
       "  'old_text': 'r',\n",
       "  'new_text': 'R',\n",
       "  'type': 'grammar',\n",
       "  'comment': ''},\n",
       " {'start_index': 372,\n",
       "  'end_index': 397,\n",
       "  'old_text': 'stripped wheat and yelped',\n",
       "  'new_text': 'stripped wheat and yelped',\n",
       "  'type': 'word choice',\n",
       "  'comment': ''},\n",
       " {'start_index': 552,\n",
       "  'end_index': 575,\n",
       "  'old_text': 'it is your favorite own',\n",
       "  'new_text': None,\n",
       "  'type': 'word choice',\n",
       "  'comment': ''},\n",
       " {'start_index': 602,\n",
       "  'end_index': 611,\n",
       "  'old_text': 'gold rush',\n",
       "  'new_text': 'Gold Rush',\n",
       "  'type': 'grammar',\n",
       "  'comment': ''},\n",
       " {'start_index': 84,\n",
       "  'end_index': 93,\n",
       "  'old_text': 'gold rush',\n",
       "  'new_text': 'Gold Rush',\n",
       "  'type': 'grammar',\n",
       "  'comment': ''}]"
      ]
     },
     "execution_count": 33,
     "metadata": {},
     "output_type": "execute_result"
    }
   ],
   "source": [
    "data[0]['markup']"
   ]
  },
  {
   "cell_type": "code",
   "execution_count": 24,
   "metadata": {},
   "outputs": [
    {
     "data": {
      "text/plain": [
       "{'plaintext': 'Gold Rush\\r\\n\\r\\nIntroduction\\r\\n\\r\\nIn the beginning\\r\\n\\r\\nIt is the year. 1848. The life changing gold rush has begun. James Marshall was assigned to build a sawmill with John Sutter’s other workers.In that process he found three gold nuggets. He showed the gold to John Sutter.John Sutter wanted to keep it a secret but Sam Brannan spread the word.\\r\\n\\r\\nImmigrants\\r\\n\\r\\n“Gold,” Ma said. Rosie stripped wheat and yelped “OoooHhhh!”. People all over wanted to go to the Gold Rush. But not until President Polk said “Gold in california!”\\r\\n\\r\\nGold Rush Items\\r\\n\\r\\nYou stare at a ball it is your favorite own. People have items in the gold rush like games,clothes, and tools.Which will let you know what time period it is.\\r\\n\\r\\nConclusion',\n",
       " 'markup': [{'start_index': 6,\n",
       "   'end_index': 11,\n",
       "   'old_text': 'there',\n",
       "   'new_text': 'there.',\n",
       "   'type': 'punctuation',\n",
       "   'comment': ''},\n",
       "  {'start_index': 58,\n",
       "   'end_index': 59,\n",
       "   'old_text': '.',\n",
       "   'new_text': None,\n",
       "   'type': 'punctuation',\n",
       "   'comment': ''},\n",
       "  {'start_index': 84,\n",
       "   'end_index': 85,\n",
       "   'old_text': 'g',\n",
       "   'new_text': 'G',\n",
       "   'type': 'grammar',\n",
       "   'comment': ''},\n",
       "  {'start_index': 89,\n",
       "   'end_index': 90,\n",
       "   'old_text': 'r',\n",
       "   'new_text': 'R',\n",
       "   'type': 'grammar',\n",
       "   'comment': ''},\n",
       "  {'start_index': 372,\n",
       "   'end_index': 397,\n",
       "   'old_text': 'stripped wheat and yelped',\n",
       "   'new_text': 'stripped wheat and yelped',\n",
       "   'type': 'word choice',\n",
       "   'comment': ''},\n",
       "  {'start_index': 552,\n",
       "   'end_index': 575,\n",
       "   'old_text': 'it is your favorite own',\n",
       "   'new_text': None,\n",
       "   'type': 'word choice',\n",
       "   'comment': ''},\n",
       "  {'start_index': 602,\n",
       "   'end_index': 611,\n",
       "   'old_text': 'gold rush',\n",
       "   'new_text': 'Gold Rush',\n",
       "   'type': 'grammar',\n",
       "   'comment': ''},\n",
       "  {'start_index': 84,\n",
       "   'end_index': 93,\n",
       "   'old_text': 'gold rush',\n",
       "   'new_text': 'Gold Rush',\n",
       "   'type': 'grammar',\n",
       "   'comment': ''}]}"
      ]
     },
     "execution_count": 24,
     "metadata": {},
     "output_type": "execute_result"
    }
   ],
   "source": [
    "data[0]"
   ]
  },
  {
   "cell_type": "code",
   "execution_count": 20,
   "metadata": {},
   "outputs": [
    {
     "data": {
      "text/plain": [
       "'bb'"
      ]
     },
     "execution_count": 20,
     "metadata": {},
     "output_type": "execute_result"
    }
   ],
   "source": [
    "a.lower()"
   ]
  },
  {
   "cell_type": "code",
   "execution_count": null,
   "metadata": {},
   "outputs": [],
   "source": []
  }
 ],
 "metadata": {
  "kernelspec": {
   "display_name": "Python 3",
   "language": "python",
   "name": "python3"
  },
  "language_info": {
   "codemirror_mode": {
    "name": "ipython",
    "version": 3
   },
   "file_extension": ".py",
   "mimetype": "text/x-python",
   "name": "python",
   "nbconvert_exporter": "python",
   "pygments_lexer": "ipython3",
   "version": "3.7.3"
  }
 },
 "nbformat": 4,
 "nbformat_minor": 2
}
