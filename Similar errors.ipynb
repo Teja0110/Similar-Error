{
 "cells": [
  {
   "cell_type": "markdown",
   "metadata": {},
   "source": [
    "## Process Data\n"
   ]
  },
  {
   "cell_type": "markdown",
   "metadata": {},
   "source": [
    "### Import Nescessary Library"
   ]
  },
  {
   "cell_type": "code",
   "execution_count": null,
   "metadata": {},
   "outputs": [],
   "source": [
    "import data_utils as dt #Read Json file and create diction of text and markup\n",
    "import Error_Checking as ck # All functions to detect similar errors\n",
    "import string\n",
    "import math\n",
    "import nltk\n",
    "from difflib import SequenceMatcher \n",
    "import matplotlib.pyplot as plt"
   ]
  },
  {
   "cell_type": "markdown",
   "metadata": {},
   "source": [
    "### Read the data"
   ]
  },
  {
   "cell_type": "code",
   "execution_count": 2,
   "metadata": {},
   "outputs": [],
   "source": [
    "# Data is a list of dictionaries of text and its markup\n",
    "data = dt.process_data('Data/tai-documents-v3/tai-documents-v3.json')"
   ]
  },
  {
   "cell_type": "code",
   "execution_count": 3,
   "metadata": {},
   "outputs": [
    {
     "data": {
      "text/plain": [
       "210"
      ]
     },
     "execution_count": 3,
     "metadata": {},
     "output_type": "execute_result"
    }
   ],
   "source": [
    "len(data)"
   ]
  },
  {
   "cell_type": "code",
   "execution_count": 4,
   "metadata": {},
   "outputs": [
    {
     "data": {
      "text/plain": [
       "list"
      ]
     },
     "execution_count": 4,
     "metadata": {},
     "output_type": "execute_result"
    }
   ],
   "source": [
    "type(data)"
   ]
  },
  {
   "cell_type": "code",
   "execution_count": 5,
   "metadata": {},
   "outputs": [
    {
     "data": {
      "text/plain": [
       "dict"
      ]
     },
     "execution_count": 5,
     "metadata": {},
     "output_type": "execute_result"
    }
   ],
   "source": [
    "type(data[0])"
   ]
  },
  {
   "cell_type": "code",
   "execution_count": 6,
   "metadata": {},
   "outputs": [
    {
     "data": {
      "text/plain": [
       "dict_keys(['plaintext', 'markup'])"
      ]
     },
     "execution_count": 6,
     "metadata": {},
     "output_type": "execute_result"
    }
   ],
   "source": [
    "data[0].keys()"
   ]
  },
  {
   "cell_type": "markdown",
   "metadata": {},
   "source": [
    "### A example of markup"
   ]
  },
  {
   "cell_type": "code",
   "execution_count": 7,
   "metadata": {},
   "outputs": [
    {
     "data": {
      "text/plain": [
       "[{'start_index': 6,\n",
       "  'end_index': 11,\n",
       "  'old_text': 'there',\n",
       "  'new_text': 'there.',\n",
       "  'type': 'punctuation',\n",
       "  'comment': ''},\n",
       " {'start_index': 58,\n",
       "  'end_index': 59,\n",
       "  'old_text': '.',\n",
       "  'new_text': None,\n",
       "  'type': 'punctuation',\n",
       "  'comment': ''},\n",
       " {'start_index': 84,\n",
       "  'end_index': 85,\n",
       "  'old_text': 'g',\n",
       "  'new_text': 'G',\n",
       "  'type': 'grammar',\n",
       "  'comment': ''},\n",
       " {'start_index': 89,\n",
       "  'end_index': 90,\n",
       "  'old_text': 'r',\n",
       "  'new_text': 'R',\n",
       "  'type': 'grammar',\n",
       "  'comment': ''},\n",
       " {'start_index': 372,\n",
       "  'end_index': 397,\n",
       "  'old_text': 'stripped wheat and yelped',\n",
       "  'new_text': 'stripped wheat and yelped',\n",
       "  'type': 'word choice',\n",
       "  'comment': ''},\n",
       " {'start_index': 552,\n",
       "  'end_index': 575,\n",
       "  'old_text': 'it is your favorite own',\n",
       "  'new_text': None,\n",
       "  'type': 'word choice',\n",
       "  'comment': ''},\n",
       " {'start_index': 602,\n",
       "  'end_index': 611,\n",
       "  'old_text': 'gold rush',\n",
       "  'new_text': 'Gold Rush',\n",
       "  'type': 'grammar',\n",
       "  'comment': ''},\n",
       " {'start_index': 84,\n",
       "  'end_index': 93,\n",
       "  'old_text': 'gold rush',\n",
       "  'new_text': 'Gold Rush',\n",
       "  'type': 'grammar',\n",
       "  'comment': ''}]"
      ]
     },
     "execution_count": 7,
     "metadata": {},
     "output_type": "execute_result"
    }
   ],
   "source": [
    "data[0]['markup']"
   ]
  },
  {
   "cell_type": "code",
   "execution_count": 8,
   "metadata": {},
   "outputs": [
    {
     "data": {
      "text/plain": [
       "dict"
      ]
     },
     "execution_count": 8,
     "metadata": {},
     "output_type": "execute_result"
    }
   ],
   "source": [
    "type(data[0])"
   ]
  },
  {
   "cell_type": "markdown",
   "metadata": {},
   "source": [
    "#### The number of errors for each type: word choice, grammar, punctuation, and spelling"
   ]
  },
  {
   "cell_type": "code",
   "execution_count": 9,
   "metadata": {},
   "outputs": [
    {
     "data": {
      "text/plain": [
       "FreqDist({'punctuation': 1449, 'spelling': 974, 'grammar': 801, 'word choice': 542})"
      ]
     },
     "execution_count": 9,
     "metadata": {},
     "output_type": "execute_result"
    }
   ],
   "source": [
    "type_er_dist = nltk.FreqDist([error['type'] for essay in data for error in essay['markup']])\n",
    "type_er_dist"
   ]
  },
  {
   "cell_type": "code",
   "execution_count": 10,
   "metadata": {},
   "outputs": [],
   "source": [
    "punc_total, sp_total, gm_total, wc_total = (type_er_dist['punctuation'], \n",
    "    type_er_dist['spelling'], type_er_dist['grammar'] ,type_er_dist['word choice'])"
   ]
  },
  {
   "cell_type": "code",
   "execution_count": 11,
   "metadata": {},
   "outputs": [
    {
     "data": {
      "text/plain": [
       "3766"
      ]
     },
     "execution_count": 11,
     "metadata": {},
     "output_type": "execute_result"
    }
   ],
   "source": [
    "# Total Number of error\n",
    "total_error_cnt = punc_total + sp_total + gm_total + wc_total\n",
    "total_error_cnt"
   ]
  },
  {
   "cell_type": "code",
   "execution_count": 12,
   "metadata": {},
   "outputs": [
    {
     "data": {
      "image/png": "[encoded data removed]",
      "text/plain": [
       "<Figure size 432x288 with 1 Axes>"
      ]
     },
     "metadata": {},
     "output_type": "display_data"
    }
   ],
   "source": [
    "# Plot the distribution of 4 types of error\n",
    "colors = ['yellowgreen', 'gold', 'lightskyblue', 'lightcoral']\n",
    "plt.pie(type_er_dist.values(), labels=type_er_dist.keys(), colors=colors,\n",
    "autopct='%1.1f%%', shadow=True, startangle=140)\n",
    "plt.axis('equal')\n",
    "plt.show()"
   ]
  },
  {
   "cell_type": "markdown",
   "metadata": {},
   "source": [
    "## Process each essay and find similar error"
   ]
  },
  {
   "cell_type": "markdown",
   "metadata": {},
   "source": [
    "### Word Choice"
   ]
  },
  {
   "cell_type": "markdown",
   "metadata": {},
   "source": [
    "#### Testing our similar word choice detecting on sample test "
   ]
  },
  {
   "cell_type": "code",
   "execution_count": 13,
   "metadata": {},
   "outputs": [],
   "source": [
    "# Sample test\n",
    "word_choice_test = {'plaintext' : 'aaaaa', 'markup' : [{'start_index': 6,\n",
    "                      'end_index': 11,\n",
    "                      'old_text': 'dad',\n",
    "                      'new_text': 'father',\n",
    "                      'type': 'word choice',\n",
    "                      'comment': ''}, \n",
    "                      {'start_index': 10,\n",
    "                      'end_index': 11,\n",
    "                      'old_text': 'dady',\n",
    "                      'new_text': 'father',\n",
    "                      'type': 'word choice',\n",
    "                      'comment': ''},\n",
    "                      {'start_index': 20,\n",
    "                      'end_index': 25,\n",
    "                      'old_text': 'mom',\n",
    "                      'new_text': 'mother',\n",
    "                      'type': 'word choice',\n",
    "                      'comment': ''}]}"
   ]
  },
  {
   "cell_type": "code",
   "execution_count": 14,
   "metadata": {},
   "outputs": [
    {
     "data": {
      "text/plain": [
       "[{'words': {'dad', 'dady', 'father'}, 'index': [0, 1], 'error_count': 2},\n",
       " {'words': {'mom', 'mother'}, 'index': [2], 'error_count': 1}]"
      ]
     },
     "execution_count": 14,
     "metadata": {},
     "output_type": "execute_result"
    }
   ],
   "source": [
    "ck.word_choice(word_choice_test)"
   ]
  },
  {
   "cell_type": "markdown",
   "metadata": {},
   "source": [
    "#### Running word_choice checking similar error on grade 4 essay dataset to check if student offen repeat word_choice error in an essay\n"
   ]
  },
  {
   "cell_type": "code",
   "execution_count": 15,
   "metadata": {},
   "outputs": [],
   "source": [
    "wc_freq = [wc_error['error_count'] for essay in data for wc_error in ck.word_choice(essay)]\n",
    "wc_freq_dict = nltk.FreqDist(wc_freq)"
   ]
  },
  {
   "cell_type": "code",
   "execution_count": 16,
   "metadata": {},
   "outputs": [
    {
     "data": {
      "text/plain": [
       "[(1, 400), (2, 43), (3, 6), (6, 2), (4, 2)]"
      ]
     },
     "execution_count": 16,
     "metadata": {},
     "output_type": "execute_result"
    }
   ],
   "source": [
    "wc_freq_dict.most_common(5)"
   ]
  },
  {
   "cell_type": "code",
   "execution_count": 17,
   "metadata": {},
   "outputs": [
    {
     "data": {
      "image/png": "[encoded data removed]",
      "text/plain": [
       "<Figure size 432x288 with 1 Axes>"
      ]
     },
     "metadata": {
      "needs_background": "light"
     },
     "output_type": "display_data"
    },
    {
     "data": {
      "text/plain": [
       "<matplotlib.axes._subplots.AxesSubplot at 0x11ea80160>"
      ]
     },
     "execution_count": 17,
     "metadata": {},
     "output_type": "execute_result"
    }
   ],
   "source": [
    "wc_freq_dict.plot()"
   ]
  },
  {
   "cell_type": "code",
   "execution_count": 18,
   "metadata": {},
   "outputs": [
    {
     "data": {
      "text/plain": [
       "10.091743119266056"
      ]
     },
     "execution_count": 18,
     "metadata": {},
     "output_type": "execute_result"
    }
   ],
   "source": [
    "# Total number repeated error\n",
    "wc_repeated_cnt = sum([1 for cnt in wc_freq if cnt > 1])\n",
    "\n",
    "# Total number of different word_choice error\n",
    "wc_total = sum(wc_freq)\n",
    "\n",
    "# In total all the word_choice error, the pecent of error appear more than 1 in an essay\n",
    "(wc_repeated_cnt * 100.0) / wc_total"
   ]
  },
  {
   "cell_type": "markdown",
   "metadata": {},
   "source": [
    "#### Find the most common word choice errors that all student made"
   ]
  },
  {
   "cell_type": "code",
   "execution_count": 19,
   "metadata": {},
   "outputs": [
    {
     "data": {
      "text/plain": [
       "[(', it', 51),\n",
       " ('also, and', 34),\n",
       " ('is, are', 17),\n",
       " (' For example,,  ', 13),\n",
       " ('their, there', 13),\n",
       " ('do, to', 9),\n",
       " ('of, or', 8),\n",
       " ('the', 8),\n",
       " ('., stone.', 6),\n",
       " ('then', 6)]"
      ]
     },
     "execution_count": 19,
     "metadata": {},
     "output_type": "execute_result"
    }
   ],
   "source": [
    "# Tuple of set of word of word choice error and its appearance\n",
    "word_set_freq = [[wc_error['words'], wc_error['error_count']] for essay in data for wc_error in ck.word_choice(essay)]\n",
    "word_set_freq_merge = []\n",
    "rm_index_set = set()\n",
    "for i in range(len(word_set_freq)):\n",
    "    if i not in rm_index_set:\n",
    "        c = word_set_freq[i]\n",
    "        for j in range(i+1, len(word_set_freq)):\n",
    "            if j not in rm_index_set:\n",
    "                tmp = word_set_freq[j]\n",
    "                for w in tmp[0]:\n",
    "                    if w in c[0]:\n",
    "                        c[1] = c[1] + tmp[1]\n",
    "                        rm_index_set.add(j)\n",
    "                        break        \n",
    "        word_set_freq_merge.append(c)\n",
    "        \n",
    "word_set_freq_dict =  nltk.FreqDist([', '.join(err[0]) for err in word_set_freq_merge for i in range(err[1])])     \n",
    "word_set_freq_dict.most_common(10)       "
   ]
  },
  {
   "cell_type": "markdown",
   "metadata": {},
   "source": [
    "### Punctuation Error"
   ]
  },
  {
   "cell_type": "markdown",
   "metadata": {},
   "source": [
    "#### Test run on a custom input and on data"
   ]
  },
  {
   "cell_type": "code",
   "execution_count": 20,
   "metadata": {},
   "outputs": [],
   "source": [
    "# Custom input\n",
    "punctuation_test = {'plaintext' : 'aaaaa', 'markup' : [\n",
    "                    {'start_index': 1824,\n",
    "                  'end_index': 1825,\n",
    "                  'old_text': '',\n",
    "                  'new_text': '.',\n",
    "                  'type': 'punctuation',\n",
    "                  'comment': ''}, \n",
    "                    {'start_index': 138,\n",
    "                   'end_index': 139,\n",
    "                   'old_text': '.',\n",
    "                   'new_text': '?',\n",
    "                   'type': 'punctuation',\n",
    "                   'comment': ''},\n",
    "                      {'start_index': 235,\n",
    "                  'end_index': 236,\n",
    "                  'old_text': '',\n",
    "                  'new_text': ',',\n",
    "                  'type': 'punctuation',\n",
    "                  'comment': ''},\n",
    "                    {'start_index': 400,\n",
    "                  'end_index': 401,\n",
    "                  'old_text': 't',\n",
    "                  'new_text': 'T',\n",
    "                  'type': 'punctuation',\n",
    "                  'comment': ''},\n",
    "                    {'start_index': 592,\n",
    "                  'end_index': 594,\n",
    "                  'old_text': 'f',\n",
    "                  'new_text': '.  F',\n",
    "                  'type': 'punctuation',\n",
    "                  'comment': ''},\n",
    "                 {'start_index': 620,\n",
    "                  'end_index': 621,\n",
    "                  'old_text': 'w',\n",
    "                  'new_text': 'W',\n",
    "                  'type': 'punctuation',\n",
    "                  'comment': ''},\n",
    "                    {'start_index': 67,\n",
    "                  'end_index': 78,\n",
    "                  'old_text': 'is surprise',\n",
    "                  'new_text': 'is, surprise',\n",
    "                  'type': 'punctuation',\n",
    "                  'comment': ''},\n",
    "                 {'start_index': 398,\n",
    "                  'end_index': 406,\n",
    "                  'old_text': 'is three',\n",
    "                  'new_text': 'is, three',\n",
    "                  'type': 'punctuation',\n",
    "                  'comment': ''},\n",
    "                    {'start_index': 407,\n",
    "                  'end_index': 421,\n",
    "                  'old_text': \"strikes you're\",\n",
    "                  'new_text': \"strikes, you're\",\n",
    "                  'type': 'punctuation',\n",
    "                  'comment': ''},\n",
    "                    {'start_index': 977,\n",
    "                  'end_index': 978,\n",
    "                  'old_text': 'I',\n",
    "                  'new_text': None,\n",
    "                  'type': 'punctuation',\n",
    "                  'comment': ''},\n",
    "                    {'start_index': 977,\n",
    "                  'end_index': 978,\n",
    "                  'old_text': 'w',\n",
    "                  'new_text': 'Well',\n",
    "                  'type': 'punctuation',\n",
    "                  'comment': ''},\n",
    "            ]}"
   ]
  },
  {
   "cell_type": "code",
   "execution_count": 21,
   "metadata": {},
   "outputs": [
    {
     "data": {
      "text/plain": [
       "{'misleading .?': {'definition': 'Errors of misleading between . and ?',\n",
       "  'index': [0],\n",
       "  'error_count': 1},\n",
       " 'other_error': {'definition': 'other errors',\n",
       "  'index': [1, 3, 5, 7, 9],\n",
       "  'error_count': 5},\n",
       " 'error_use .': {'definition': 'Wrong used or missing using of .',\n",
       "  'index': [2],\n",
       "  'error_count': 1},\n",
       " 'capitalization_error': {'definition': 'Errors on capitalization',\n",
       "  'index': [4],\n",
       "  'error_count': 1}}"
      ]
     },
     "execution_count": 21,
     "metadata": {},
     "output_type": "execute_result"
    }
   ],
   "source": [
    "ck.punctuation_error(data[9])"
   ]
  },
  {
   "cell_type": "code",
   "execution_count": 22,
   "metadata": {
    "scrolled": true
   },
   "outputs": [
    {
     "data": {
      "text/plain": [
       "[{'start_index': 138,\n",
       "  'end_index': 139,\n",
       "  'old_text': '.',\n",
       "  'new_text': '?',\n",
       "  'type': 'punctuation',\n",
       "  'comment': ''},\n",
       " {'start_index': 147,\n",
       "  'end_index': 148,\n",
       "  'old_text': 'w',\n",
       "  'new_text': 'Well',\n",
       "  'type': 'punctuation',\n",
       "  'comment': ''},\n",
       " {'start_index': 231,\n",
       "  'end_index': 232,\n",
       "  'old_text': ' ',\n",
       "  'new_text': ' .',\n",
       "  'type': 'punctuation',\n",
       "  'comment': 'add period'},\n",
       " {'start_index': 232,\n",
       "  'end_index': 233,\n",
       "  'old_text': 't',\n",
       "  'new_text': None,\n",
       "  'type': 'punctuation',\n",
       "  'comment': ''},\n",
       " {'start_index': 337,\n",
       "  'end_index': 338,\n",
       "  'old_text': 'i',\n",
       "  'new_text': 'i',\n",
       "  'type': 'punctuation',\n",
       "  'comment': ''},\n",
       " {'start_index': 603,\n",
       "  'end_index': 607,\n",
       "  'old_text': 'also',\n",
       "  'new_text': None,\n",
       "  'type': 'punctuation',\n",
       "  'comment': ''},\n",
       " {'start_index': 700,\n",
       "  'end_index': 704,\n",
       "  'old_text': 'good',\n",
       "  'new_text': 'well',\n",
       "  'type': 'word choice',\n",
       "  'comment': ''},\n",
       " {'start_index': 753,\n",
       "  'end_index': 755,\n",
       "  'old_text': 'my',\n",
       "  'new_text': None,\n",
       "  'type': 'punctuation',\n",
       "  'comment': ''},\n",
       " {'start_index': 927,\n",
       "  'end_index': 932,\n",
       "  'old_text': '. and',\n",
       "  'new_text': None,\n",
       "  'type': 'word choice',\n",
       "  'comment': 'remove \"and\", start new sentence'},\n",
       " {'start_index': 933,\n",
       "  'end_index': 939,\n",
       "  'old_text': \"that's\",\n",
       "  'new_text': None,\n",
       "  'type': 'punctuation',\n",
       "  'comment': ''}]"
      ]
     },
     "execution_count": 22,
     "metadata": {},
     "output_type": "execute_result"
    }
   ],
   "source": [
    "# On an essay in dataset\n",
    "data[9]['markup']"
   ]
  },
  {
   "cell_type": "code",
   "execution_count": 23,
   "metadata": {},
   "outputs": [
    {
     "data": {
      "text/plain": [
       "{'error_use .': {'definition': 'Wrong used or missing using of .',\n",
       "  'index': [0, 4],\n",
       "  'error_count': 2},\n",
       " 'misleading .?': {'definition': 'Errors of misleading between . and ?',\n",
       "  'index': [1],\n",
       "  'error_count': 1},\n",
       " 'error_use ,': {'definition': 'Wrong used or missing using of ,',\n",
       "  'index': [2, 6, 7, 8],\n",
       "  'error_count': 4},\n",
       " 'capitalization_error': {'definition': 'Errors on capitalization',\n",
       "  'index': [3, 5],\n",
       "  'error_count': 2},\n",
       " 'other_error': {'definition': 'other errors',\n",
       "  'index': [9, 10],\n",
       "  'error_count': 2}}"
      ]
     },
     "execution_count": 23,
     "metadata": {},
     "output_type": "execute_result"
    }
   ],
   "source": [
    "ck.punctuation_error(punctuation_test)\n"
   ]
  },
  {
   "cell_type": "markdown",
   "metadata": {},
   "source": [
    "#### Make sure that total error we count equal total of punctuation error in input"
   ]
  },
  {
   "cell_type": "code",
   "execution_count": 24,
   "metadata": {},
   "outputs": [],
   "source": [
    "assert(len([k for k in punctuation_test['markup'] if k['type'] == 'punctuation']) == \n",
    "       sum(error['error_count'] for error in ck.punctuation_error(punctuation_test).values()))"
   ]
  },
  {
   "cell_type": "code",
   "execution_count": 25,
   "metadata": {},
   "outputs": [],
   "source": [
    "for essay in data:\n",
    "    assert(len([p for p in essay['markup'] if p['type'] == 'punctuation']) == \n",
    "           sum(error['error_count'] for error in ck.punctuation_error(essay).values()))"
   ]
  },
  {
   "cell_type": "markdown",
   "metadata": {},
   "source": [
    "#### Some Stat for counting punctuation error"
   ]
  },
  {
   "cell_type": "markdown",
   "metadata": {},
   "source": [
    "##### Total Number of punctuation errors were marked"
   ]
  },
  {
   "cell_type": "code",
   "execution_count": 26,
   "metadata": {},
   "outputs": [
    {
     "data": {
      "text/plain": [
       "1449"
      ]
     },
     "execution_count": 26,
     "metadata": {},
     "output_type": "execute_result"
    }
   ],
   "source": [
    "punc_total"
   ]
  },
  {
   "cell_type": "markdown",
   "metadata": {},
   "source": [
    "##### Total Number of punctuation errors that we can classify (Not put on other_error)"
   ]
  },
  {
   "cell_type": "code",
   "execution_count": 27,
   "metadata": {},
   "outputs": [
    {
     "data": {
      "text/plain": [
       "1034"
      ]
     },
     "execution_count": 27,
     "metadata": {},
     "output_type": "execute_result"
    }
   ],
   "source": [
    "ctb_punc_error = sum([error[1]['error_count'] for essay in data \n",
    "                      for error in ck.punctuation_error(essay).items() \n",
    "                      if error[0] != 'other_error'])\n",
    "ctb_punc_error"
   ]
  },
  {
   "cell_type": "markdown",
   "metadata": {},
   "source": [
    "##### Percent of punctuation error that we can classify"
   ]
  },
  {
   "cell_type": "code",
   "execution_count": 28,
   "metadata": {},
   "outputs": [
    {
     "data": {
      "text/plain": [
       "71.35955831608005"
      ]
     },
     "execution_count": 28,
     "metadata": {},
     "output_type": "execute_result"
    }
   ],
   "source": [
    "Punc_classify_rate = (ctb_punc_error * 100.0) / punc_total\n",
    "Punc_classify_rate"
   ]
  },
  {
   "cell_type": "markdown",
   "metadata": {},
   "source": [
    "##### Distribution of the repeatable of a type of error in an essay\n",
    "We want to check how frequently a student make the same punctuation error in an essay"
   ]
  },
  {
   "cell_type": "code",
   "execution_count": 29,
   "metadata": {},
   "outputs": [],
   "source": [
    "# A list of number of each type of punctuation error in an essay for the whole dataset\n",
    "repeat_error_cnt = [error[1]['error_count'] for essay in data \n",
    "                      for error in ck.punctuation_error(essay).items() \n",
    "                      if error[0] != 'other_error']"
   ]
  },
  {
   "cell_type": "code",
   "execution_count": 30,
   "metadata": {},
   "outputs": [
    {
     "data": {
      "text/plain": [
       "[(1, 134), (2, 66), (3, 40), (4, 17), (7, 14)]"
      ]
     },
     "execution_count": 30,
     "metadata": {},
     "output_type": "execute_result"
    }
   ],
   "source": [
    "error_cnt_freq = nltk.FreqDist(repeat_error_cnt)\n",
    "error_cnt_freq.most_common(5)"
   ]
  },
  {
   "cell_type": "code",
   "execution_count": 31,
   "metadata": {},
   "outputs": [
    {
     "data": {
      "image/png": "[encoded data removed]",
      "text/plain": [
       "<Figure size 432x288 with 1 Axes>"
      ]
     },
     "metadata": {
      "needs_background": "light"
     },
     "output_type": "display_data"
    },
    {
     "data": {
      "text/plain": [
       "<matplotlib.axes._subplots.AxesSubplot at 0x11eae37f0>"
      ]
     },
     "execution_count": 31,
     "metadata": {},
     "output_type": "execute_result"
    }
   ],
   "source": [
    "error_cnt_freq.plot()"
   ]
  },
  {
   "cell_type": "code",
   "execution_count": 32,
   "metadata": {},
   "outputs": [
    {
     "data": {
      "text/plain": [
       "62.11180124223603"
      ]
     },
     "execution_count": 32,
     "metadata": {},
     "output_type": "execute_result"
    }
   ],
   "source": [
    "# Number of repeated error\n",
    "punc_repeated_cnt = sum([num for num in repeat_error_cnt if num > 1])\n",
    "\n",
    "# Percent of repeated punctuation error \n",
    "punc_repeated_cnt * 100.0/punc_total"
   ]
  },
  {
   "cell_type": "markdown",
   "metadata": {},
   "source": [
    "##### Now we want to find for all student in grade 4, which punctuation errors that they usually make"
   ]
  },
  {
   "cell_type": "code",
   "execution_count": 33,
   "metadata": {},
   "outputs": [
    {
     "data": {
      "text/plain": [
       "{'capitalization_error',\n",
       " 'error_use !',\n",
       " 'error_use \"',\n",
       " \"error_use '\",\n",
       " 'error_use ,',\n",
       " 'error_use -',\n",
       " 'error_use .',\n",
       " 'error_use :',\n",
       " 'error_use ?',\n",
       " 'misleading !?',\n",
       " 'misleading ,.',\n",
       " 'misleading ,?',\n",
       " 'misleading -.',\n",
       " 'misleading .!',\n",
       " 'misleading .,',\n",
       " 'misleading .?',\n",
       " \"misleading :'\",\n",
       " 'misleading ?,',\n",
       " 'misleading ?.'}"
      ]
     },
     "execution_count": 33,
     "metadata": {},
     "output_type": "execute_result"
    }
   ],
   "source": [
    "# List of All punc_error in all essays after classify\n",
    "punc_errors = [error for essay in data \n",
    "                      for error in ck.punctuation_error(essay).items() \n",
    "                      if error[0] != 'other_error']\n",
    "\n",
    "# All different error types\n",
    "punc_error_type = set([p_type[0] for p_type in punc_errors])\n",
    "punc_error_type\n",
    "\n"
   ]
  },
  {
   "cell_type": "code",
   "execution_count": 34,
   "metadata": {},
   "outputs": [
    {
     "data": {
      "text/plain": [
       "{'error_use \"': 1,\n",
       " 'misleading ,?': 4,\n",
       " 'misleading !?': 5,\n",
       " 'misleading .?': 20,\n",
       " 'misleading ,.': 23,\n",
       " 'error_use !': 2,\n",
       " 'misleading .!': 3,\n",
       " 'error_use ,': 544,\n",
       " 'misleading ?,': 1,\n",
       " 'misleading -.': 1,\n",
       " 'error_use .': 229,\n",
       " \"misleading :'\": 1,\n",
       " 'misleading ?.': 4,\n",
       " 'misleading .,': 18,\n",
       " 'error_use ?': 35,\n",
       " \"error_use '\": 22,\n",
       " 'error_use :': 4,\n",
       " 'capitalization_error': 110,\n",
       " 'error_use -': 7}"
      ]
     },
     "execution_count": 34,
     "metadata": {},
     "output_type": "execute_result"
    }
   ],
   "source": [
    "# Each type with total number of appearance\n",
    "error_cnt_total = {key : sum([error[1]['error_count'] \n",
    "                              for error in punc_errors if error[0] == key]) \n",
    "                   for key in punc_error_type} \n",
    "\n",
    "error_cnt_total"
   ]
  },
  {
   "cell_type": "code",
   "execution_count": 35,
   "metadata": {
    "scrolled": true
   },
   "outputs": [
    {
     "data": {
      "text/plain": [
       "{'error_use \"': 1,\n",
       " 'misleading ,?': 5,\n",
       " 'misleading !?': 5,\n",
       " 'misleading .?': 24,\n",
       " 'misleading ,.': 41,\n",
       " 'error_use !': 2,\n",
       " 'misleading .!': 3,\n",
       " 'error_use ,': 544,\n",
       " 'misleading -.': 1,\n",
       " 'error_use .': 229,\n",
       " \"misleading :'\": 1,\n",
       " 'error_use ?': 35,\n",
       " \"error_use '\": 22,\n",
       " 'error_use :': 4,\n",
       " 'capitalization_error': 110,\n",
       " 'error_use -': 7}"
      ]
     },
     "execution_count": 35,
     "metadata": {},
     "output_type": "execute_result"
    }
   ],
   "source": [
    "# There still dublicated in the ressult like 'misleading ,?' and 'misleading ?,'\n",
    "# We're going to merge them\n",
    "error_cnt_total_fix = error_cnt_total.copy()\n",
    "for k in error_cnt_total:\n",
    "    if(k[:10] == 'misleading' and k in error_cnt_total_fix):\n",
    "        deleted_key = 'misleading ' + k[12] + k[11]\n",
    "        if deleted_key in error_cnt_total_fix:\n",
    "            error_cnt_total_fix[k] = error_cnt_total_fix[k] + error_cnt_total_fix[deleted_key]\n",
    "            del error_cnt_total_fix[deleted_key]\n",
    "error_cnt_total_fix"
   ]
  },
  {
   "cell_type": "code",
   "execution_count": 36,
   "metadata": {},
   "outputs": [
    {
     "data": {
      "text/plain": [
       "[('error_use ,', 544),\n",
       " ('error_use .', 229),\n",
       " ('capitalization_error', 110),\n",
       " ('misleading ,.', 41),\n",
       " ('error_use ?', 35)]"
      ]
     },
     "execution_count": 36,
     "metadata": {},
     "output_type": "execute_result"
    }
   ],
   "source": [
    "# Most five common types \n",
    "punc_error_cnt_total_dict = nltk.FreqDist(error_cnt_total_fix)\n",
    "punc_error_cnt_total_dict.most_common(5)"
   ]
  },
  {
   "cell_type": "code",
   "execution_count": 37,
   "metadata": {},
   "outputs": [
    {
     "data": {
      "image/png": "[encoded data removed]",
      "text/plain": [
       "<Figure size 432x288 with 1 Axes>"
      ]
     },
     "metadata": {
      "needs_background": "light"
     },
     "output_type": "display_data"
    },
    {
     "data": {
      "text/plain": [
       "<matplotlib.axes._subplots.AxesSubplot at 0x11edc8b38>"
      ]
     },
     "execution_count": 37,
     "metadata": {},
     "output_type": "execute_result"
    }
   ],
   "source": [
    "# Graph\n",
    "punc_error_cnt_total_dict.plot()"
   ]
  },
  {
   "cell_type": "markdown",
   "metadata": {},
   "source": [
    "## Spelling"
   ]
  },
  {
   "cell_type": "code",
   "execution_count": 38,
   "metadata": {
    "scrolled": false
   },
   "outputs": [
    {
     "name": "stdout",
     "output_type": "stream",
     "text": [
      "The common spelling errors among the whole data set is\n",
      "sta ['star', 'star', 'staff', 'staff']\n",
      "yor ['your', 'your', 'your', 'your']\n",
      "the ['they', 'they', 'they', 'they']\n"
     ]
    },
    {
     "data": {
      "image/png": "[encoded data removed]",
      "text/plain": [
       "<Figure size 432x288 with 1 Axes>"
      ]
     },
     "metadata": {
      "needs_background": "light"
     },
     "output_type": "display_data"
    },
    {
     "name": "stdout",
     "output_type": "stream",
     "text": [
      "152\n"
     ]
    }
   ],
   "source": [
    "def sub(str1,str2): \n",
    "    seqMatch = SequenceMatcher(None,str1,str2) \n",
    "    match = seqMatch.find_longest_match(0, len(str1), 0, len(str2)) \n",
    "    if (match.size!=0):\n",
    "        z=str1[match.a: match.a + match.size]\n",
    "        return z\n",
    "    \n",
    "def de(str1,str2,str3):\n",
    "    a=dict()\n",
    "    c=None\n",
    "    for i in str1:\n",
    "        for j in str2:\n",
    "            if(i==j and str1.index(i)==str2.index(j)):\n",
    "                c=str1.replace(i,'')\n",
    "            \n",
    "                \n",
    "    if c==None:\n",
    "        return\n",
    "    if c not in a.keys():\n",
    "        a[c]=[str1,str3]\n",
    "    else:\n",
    "        a[c]=a[c]+[str1,str3]\n",
    "    return a\n",
    "\t\n",
    "def spel(i):\n",
    "    a=[error['old_text'] for error in data[i]['markup'] if error['type'] == 'spelling']\n",
    "    b=[error['new_text'] for error in data[i]['markup'] if error['type'] == 'spelling']\n",
    "    co=0\n",
    "    e=dict()\n",
    "    for i in range(0,len(a)-1):\n",
    "        for j in range(i,len(a)-1):\n",
    "            if i!=j:\n",
    "                c=sub(a[i],a[j])\n",
    "                if(c!=None and len(c)>3 and b[j]!=None):\n",
    "                    d=de(a[j],b[j],a[i])\n",
    "                    if(d is not None):\n",
    "                        for k in d.keys():\n",
    "                            e[k]=d[k]\n",
    "    if e!=None:\n",
    "        r1=0\n",
    "        g=dict()\n",
    "        for i in e.keys():\n",
    "            if len(e[i])>1:\n",
    "                g[i]=len(e[i])\n",
    "                r1=r1+len(e[i])\n",
    "\n",
    "        #print(\"common error patterns\",end=' ')\n",
    "        #print([i for i in e.keys() if len(e[i])>1])\n",
    "        #print(\"common error words\", end=' ')\n",
    "        #print([v for v in e.values() if len(e[i])>1] )\n",
    "\n",
    "\n",
    "        #print(\"percentage of common errors:\",end=' ')\n",
    "        #if(len(a)!=0):\n",
    "         #   print((r1*100)/len(a))\n",
    "        #else:\n",
    "         #   print(\"No spelling errors found\")\n",
    "\n",
    "        #plt.bar(g.keys(), g.values(), 1, color='g')\n",
    "        #plt.show()\n",
    "        return e\n",
    "def act():\n",
    "    f=dict()\n",
    "    m,k=0,0\n",
    "    for i in range(0,209):\n",
    "        e=spel(i)\n",
    "        if e is not None:\n",
    "            for i in e.keys():\n",
    "                if i not in f.keys():\n",
    "                    f[i]=e[i]\n",
    "                    k=k+len(e[i])\n",
    "                else:\n",
    "                    f[i]=f[i]+e[i]\n",
    "                    k=k+len(e[i])\n",
    "                    \n",
    "    c=[(len(f[i]),i) for i in f.keys() if len(f[i])>2]\n",
    "    print(\"The common spelling errors among the whole data set is\")\n",
    "    h=dict()\n",
    "    for i in c:\n",
    "        h[i[1]]=len(f[i[1]])\n",
    "        print(i[1],f[i[1]])\n",
    "    plt.bar(h.keys(),h.values(),1, color='b')\n",
    "    plt.show()\n",
    "    return k\n",
    "\n",
    "print(act())\n",
    "    \n"
   ]
  },
  {
   "cell_type": "code",
   "execution_count": 39,
   "metadata": {},
   "outputs": [
    {
     "ename": "NameError",
     "evalue": "name 'e' is not defined",
     "output_type": "error",
     "traceback": [
      "\u001b[0;31m---------------------------------------------------------------------------\u001b[0m",
      "\u001b[0;31mNameError\u001b[0m                                 Traceback (most recent call last)",
      "\u001b[0;32m<ipython-input-39-54a55c10a049>\u001b[0m in \u001b[0;36m<module>\u001b[0;34m\u001b[0m\n\u001b[1;32m      1\u001b[0m \u001b[0mf\u001b[0m\u001b[0;34m=\u001b[0m\u001b[0mdict\u001b[0m\u001b[0;34m(\u001b[0m\u001b[0;34m)\u001b[0m\u001b[0;34m\u001b[0m\u001b[0;34m\u001b[0m\u001b[0m\n\u001b[1;32m      2\u001b[0m \u001b[0;32mfor\u001b[0m \u001b[0mi\u001b[0m \u001b[0;32min\u001b[0m \u001b[0mrange\u001b[0m\u001b[0;34m(\u001b[0m\u001b[0;36m0\u001b[0m\u001b[0;34m,\u001b[0m\u001b[0;36m209\u001b[0m\u001b[0;34m)\u001b[0m\u001b[0;34m:\u001b[0m\u001b[0;34m\u001b[0m\u001b[0;34m\u001b[0m\u001b[0m\n\u001b[0;32m----> 3\u001b[0;31m     \u001b[0;32mif\u001b[0m \u001b[0me\u001b[0m \u001b[0;32mis\u001b[0m \u001b[0;32mnot\u001b[0m \u001b[0;32mNone\u001b[0m\u001b[0;34m:\u001b[0m\u001b[0;34m\u001b[0m\u001b[0;34m\u001b[0m\u001b[0m\n\u001b[0m\u001b[1;32m      4\u001b[0m         \u001b[0;32mfor\u001b[0m \u001b[0mi\u001b[0m \u001b[0;32min\u001b[0m \u001b[0me\u001b[0m\u001b[0;34m.\u001b[0m\u001b[0mkeys\u001b[0m\u001b[0;34m(\u001b[0m\u001b[0;34m)\u001b[0m\u001b[0;34m:\u001b[0m\u001b[0;34m\u001b[0m\u001b[0;34m\u001b[0m\u001b[0m\n\u001b[1;32m      5\u001b[0m             \u001b[0;32mif\u001b[0m \u001b[0mi\u001b[0m \u001b[0;32mnot\u001b[0m \u001b[0;32min\u001b[0m \u001b[0mf\u001b[0m\u001b[0;34m.\u001b[0m\u001b[0mkeys\u001b[0m\u001b[0;34m(\u001b[0m\u001b[0;34m)\u001b[0m\u001b[0;34m:\u001b[0m\u001b[0;34m\u001b[0m\u001b[0;34m\u001b[0m\u001b[0m\n",
      "\u001b[0;31mNameError\u001b[0m: name 'e' is not defined"
     ]
    }
   ],
   "source": [
    "f=dict()\n",
    "for i in range(0,209):\n",
    "    if e is not None:\n",
    "        for i in e.keys():\n",
    "            if i not in f.keys():\n",
    "                f[i]=e[i]\n",
    "            else:\n",
    "                f[i]=f[i]+e[i]\n",
    "c=[(len(f[i]),i) for i in f.keys() if len(f[i])>2]\n",
    "print(f)\n",
    "print(c)"
   ]
  },
  {
   "cell_type": "code",
   "execution_count": 40,
   "metadata": {},
   "outputs": [
    {
     "name": "stdout",
     "output_type": "stream",
     "text": [
      "The common spelling errors among the whole data set is\n",
      "sta ['star', 'star', 'staff', 'staff']\n",
      "yor ['your', 'your', 'your', 'your']\n",
      "the ['they', 'they', 'they', 'they']\n"
     ]
    },
    {
     "data": {
      "image/png": "[encoded data removed]",
      "text/plain": [
       "<Figure size 432x288 with 1 Axes>"
      ]
     },
     "metadata": {
      "needs_background": "light"
     },
     "output_type": "display_data"
    },
    {
     "name": "stdout",
     "output_type": "stream",
     "text": [
      "Percentage of Spelling errors similar\n",
      "15.637860082304528\n"
     ]
    }
   ],
   "source": [
    "a=0\n",
    "g=act()\n",
    "for i in range(0,209):\n",
    "    a=a+len([error['old_text'] for error in data[i]['markup'] if error['type'] == 'spelling'])\n",
    "print(\"Percentage of Spelling errors similar\")\n",
    "if g!=0:\n",
    "    print(g*100/a)\n",
    "else:\n",
    "    print(\"No spelling errors found\")"
   ]
  },
  {
   "cell_type": "markdown",
   "metadata": {},
   "source": [
    "# Summary"
   ]
  },
  {
   "cell_type": "markdown",
   "metadata": {},
   "source": [
    "### Percent of error can be classified by our functions"
   ]
  },
  {
   "cell_type": "code",
   "execution_count": 41,
   "metadata": {},
   "outputs": [
    {
     "data": {
      "text/plain": [
       "2553"
      ]
     },
     "execution_count": 41,
     "metadata": {},
     "output_type": "execute_result"
    }
   ],
   "source": [
    "# Total Error can classify\n",
    "total_err_classify = ctb_punc_error + wc_total + sp_total\n",
    "total_err_classify"
   ]
  },
  {
   "cell_type": "code",
   "execution_count": 42,
   "metadata": {},
   "outputs": [
    {
     "data": {
      "text/plain": [
       "67.79075942644715"
      ]
     },
     "execution_count": 42,
     "metadata": {},
     "output_type": "execute_result"
    }
   ],
   "source": [
    "# Percent of errors can classify\n",
    "total_err_classify * 100.0 / total_error_cnt"
   ]
  },
  {
   "cell_type": "markdown",
   "metadata": {},
   "source": [
    "### Percent of error is duplicated in an essay for what we can classify"
   ]
  },
  {
   "cell_type": "code",
   "execution_count": 43,
   "metadata": {},
   "outputs": [
    {
     "data": {
      "text/plain": [
       "1107"
      ]
     },
     "execution_count": 43,
     "metadata": {},
     "output_type": "execute_result"
    }
   ],
   "source": [
    "# Number of dublicated error (appearing more than 2 in an essay)\n",
    "dub_cnt = punc_repeated_cnt + wc_repeated_cnt + g\n",
    "dub_cnt"
   ]
  },
  {
   "cell_type": "code",
   "execution_count": 44,
   "metadata": {},
   "outputs": [
    {
     "data": {
      "text/plain": [
       "0.4336075205640423"
      ]
     },
     "execution_count": 44,
     "metadata": {},
     "output_type": "execute_result"
    }
   ],
   "source": [
    "# percentage\n",
    "dub_cnt / total_err_classify"
   ]
  },
  {
   "cell_type": "markdown",
   "metadata": {},
   "source": [
    "### Which is the most common error for all students in those three type"
   ]
  },
  {
   "cell_type": "code",
   "execution_count": 45,
   "metadata": {},
   "outputs": [],
   "source": [
    "# Gather all the FreqDist of those 3 type\n",
    "total_error_freq_dist = word_set_freq_dict + punc_error_cnt_total_dict  # + Spelling"
   ]
  },
  {
   "cell_type": "code",
   "execution_count": 46,
   "metadata": {},
   "outputs": [
    {
     "data": {
      "text/plain": [
       "[('error_use ,', 544),\n",
       " ('error_use .', 229),\n",
       " ('capitalization_error', 110),\n",
       " (', it', 51),\n",
       " ('misleading ,.', 41),\n",
       " ('error_use ?', 35),\n",
       " ('also, and', 34),\n",
       " ('misleading .?', 24),\n",
       " (\"error_use '\", 22),\n",
       " ('is, are', 17),\n",
       " (' For example,,  ', 13),\n",
       " ('their, there', 13),\n",
       " ('do, to', 9),\n",
       " ('of, or', 8),\n",
       " ('the', 8),\n",
       " ('error_use -', 7),\n",
       " ('., stone.', 6),\n",
       " ('then', 6),\n",
       " ('in', 6),\n",
       " (\"your, you're\", 6)]"
      ]
     },
     "execution_count": 46,
     "metadata": {},
     "output_type": "execute_result"
    }
   ],
   "source": [
    "# Most common error of all three type\n",
    "total_error_freq_dist.most_common(20)"
   ]
  },
  {
   "cell_type": "code",
   "execution_count": null,
   "metadata": {},
   "outputs": [],
   "source": []
  }
 ],
 "metadata": {
  "kernelspec": {
   "display_name": "Python 3",
   "language": "python",
   "name": "python3"
  },
  "language_info": {
   "codemirror_mode": {
    "name": "ipython",
    "version": 3
   },
   "file_extension": ".py",
   "mimetype": "text/x-python",
   "name": "python",
   "nbconvert_exporter": "python",
   "pygments_lexer": "ipython3",
   "version": "3.7.3"
  }
 },
 "nbformat": 4,
 "nbformat_minor": 2
}
